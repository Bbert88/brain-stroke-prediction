{
 "cells": [
  {
   "cell_type": "code",
   "execution_count": 1,
   "id": "1e5da529",
   "metadata": {},
   "outputs": [],
   "source": [
    "import numpy as np\n",
    "import pandas as pd\n",
    "from sklearn.metrics import balanced_accuracy_score\n",
    "from sklearn.metrics import confusion_matrix, classification_report\n",
    "from imblearn.metrics import classification_report_imbalanced\n",
    "%matplotlib inline\n",
    "from matplotlib import pyplot as plt\n",
    "from sklearn.model_selection import train_test_split\n"
   ]
  },
  {
   "cell_type": "code",
   "execution_count": 2,
   "id": "77b1ef12",
   "metadata": {},
   "outputs": [
    {
     "data": {
      "text/html": [
       "<div>\n",
       "<style scoped>\n",
       "    .dataframe tbody tr th:only-of-type {\n",
       "        vertical-align: middle;\n",
       "    }\n",
       "\n",
       "    .dataframe tbody tr th {\n",
       "        vertical-align: top;\n",
       "    }\n",
       "\n",
       "    .dataframe thead th {\n",
       "        text-align: right;\n",
       "    }\n",
       "</style>\n",
       "<table border=\"1\" class=\"dataframe\">\n",
       "  <thead>\n",
       "    <tr style=\"text-align: right;\">\n",
       "      <th></th>\n",
       "      <th>id</th>\n",
       "      <th>gender</th>\n",
       "      <th>age</th>\n",
       "      <th>hypertension</th>\n",
       "      <th>heart_disease</th>\n",
       "      <th>ever_married</th>\n",
       "      <th>avg_glucose_level</th>\n",
       "      <th>bmi</th>\n",
       "      <th>stroke</th>\n",
       "      <th>govt_worker</th>\n",
       "      <th>never_worked</th>\n",
       "      <th>private_worker</th>\n",
       "      <th>self_employed</th>\n",
       "      <th>rural_residence</th>\n",
       "      <th>urban_residence</th>\n",
       "      <th>smoking_unknown</th>\n",
       "      <th>former_smoker</th>\n",
       "      <th>never_smoked</th>\n",
       "      <th>current_smoker</th>\n",
       "    </tr>\n",
       "  </thead>\n",
       "  <tbody>\n",
       "    <tr>\n",
       "      <th>0</th>\n",
       "      <td>9046</td>\n",
       "      <td>1</td>\n",
       "      <td>67.0</td>\n",
       "      <td>0</td>\n",
       "      <td>1</td>\n",
       "      <td>1</td>\n",
       "      <td>228.69</td>\n",
       "      <td>36.6</td>\n",
       "      <td>1</td>\n",
       "      <td>0</td>\n",
       "      <td>0</td>\n",
       "      <td>1</td>\n",
       "      <td>0</td>\n",
       "      <td>0</td>\n",
       "      <td>1</td>\n",
       "      <td>0</td>\n",
       "      <td>1</td>\n",
       "      <td>0</td>\n",
       "      <td>0</td>\n",
       "    </tr>\n",
       "    <tr>\n",
       "      <th>1</th>\n",
       "      <td>31112</td>\n",
       "      <td>1</td>\n",
       "      <td>80.0</td>\n",
       "      <td>0</td>\n",
       "      <td>1</td>\n",
       "      <td>1</td>\n",
       "      <td>105.92</td>\n",
       "      <td>32.5</td>\n",
       "      <td>1</td>\n",
       "      <td>0</td>\n",
       "      <td>0</td>\n",
       "      <td>1</td>\n",
       "      <td>0</td>\n",
       "      <td>1</td>\n",
       "      <td>0</td>\n",
       "      <td>0</td>\n",
       "      <td>0</td>\n",
       "      <td>1</td>\n",
       "      <td>0</td>\n",
       "    </tr>\n",
       "    <tr>\n",
       "      <th>2</th>\n",
       "      <td>60182</td>\n",
       "      <td>0</td>\n",
       "      <td>49.0</td>\n",
       "      <td>0</td>\n",
       "      <td>0</td>\n",
       "      <td>1</td>\n",
       "      <td>171.23</td>\n",
       "      <td>34.4</td>\n",
       "      <td>1</td>\n",
       "      <td>0</td>\n",
       "      <td>0</td>\n",
       "      <td>1</td>\n",
       "      <td>0</td>\n",
       "      <td>0</td>\n",
       "      <td>1</td>\n",
       "      <td>0</td>\n",
       "      <td>0</td>\n",
       "      <td>0</td>\n",
       "      <td>1</td>\n",
       "    </tr>\n",
       "    <tr>\n",
       "      <th>3</th>\n",
       "      <td>1665</td>\n",
       "      <td>0</td>\n",
       "      <td>79.0</td>\n",
       "      <td>1</td>\n",
       "      <td>0</td>\n",
       "      <td>1</td>\n",
       "      <td>174.12</td>\n",
       "      <td>24.0</td>\n",
       "      <td>1</td>\n",
       "      <td>0</td>\n",
       "      <td>0</td>\n",
       "      <td>0</td>\n",
       "      <td>1</td>\n",
       "      <td>1</td>\n",
       "      <td>0</td>\n",
       "      <td>0</td>\n",
       "      <td>0</td>\n",
       "      <td>1</td>\n",
       "      <td>0</td>\n",
       "    </tr>\n",
       "    <tr>\n",
       "      <th>4</th>\n",
       "      <td>56669</td>\n",
       "      <td>1</td>\n",
       "      <td>81.0</td>\n",
       "      <td>0</td>\n",
       "      <td>0</td>\n",
       "      <td>1</td>\n",
       "      <td>186.21</td>\n",
       "      <td>29.0</td>\n",
       "      <td>1</td>\n",
       "      <td>0</td>\n",
       "      <td>0</td>\n",
       "      <td>1</td>\n",
       "      <td>0</td>\n",
       "      <td>0</td>\n",
       "      <td>1</td>\n",
       "      <td>0</td>\n",
       "      <td>1</td>\n",
       "      <td>0</td>\n",
       "      <td>0</td>\n",
       "    </tr>\n",
       "  </tbody>\n",
       "</table>\n",
       "</div>"
      ],
      "text/plain": [
       "      id  gender   age  hypertension  heart_disease  ever_married  \\\n",
       "0   9046       1  67.0             0              1             1   \n",
       "1  31112       1  80.0             0              1             1   \n",
       "2  60182       0  49.0             0              0             1   \n",
       "3   1665       0  79.0             1              0             1   \n",
       "4  56669       1  81.0             0              0             1   \n",
       "\n",
       "   avg_glucose_level   bmi  stroke  govt_worker  never_worked  private_worker  \\\n",
       "0             228.69  36.6       1            0             0               1   \n",
       "1             105.92  32.5       1            0             0               1   \n",
       "2             171.23  34.4       1            0             0               1   \n",
       "3             174.12  24.0       1            0             0               0   \n",
       "4             186.21  29.0       1            0             0               1   \n",
       "\n",
       "   self_employed  rural_residence  urban_residence  smoking_unknown  \\\n",
       "0              0                0                1                0   \n",
       "1              0                1                0                0   \n",
       "2              0                0                1                0   \n",
       "3              1                1                0                0   \n",
       "4              0                0                1                0   \n",
       "\n",
       "   former_smoker  never_smoked  current_smoker  \n",
       "0              1             0               0  \n",
       "1              0             1               0  \n",
       "2              0             0               1  \n",
       "3              0             1               0  \n",
       "4              1             0               0  "
      ]
     },
     "execution_count": 2,
     "metadata": {},
     "output_type": "execute_result"
    }
   ],
   "source": [
    "df = pd.read_csv(\"Resources/adult.csv\")\n",
    "df.head()"
   ]
  },
  {
   "cell_type": "code",
   "execution_count": 3,
   "id": "fd94a94a",
   "metadata": {},
   "outputs": [
    {
     "data": {
      "text/plain": [
       "Index(['id', 'gender', 'age', 'hypertension', 'heart_disease', 'ever_married',\n",
       "       'avg_glucose_level', 'bmi', 'stroke', 'govt_worker', 'never_worked',\n",
       "       'private_worker', 'self_employed', 'rural_residence', 'urban_residence',\n",
       "       'smoking_unknown', 'former_smoker', 'never_smoked', 'current_smoker'],\n",
       "      dtype='object')"
      ]
     },
     "execution_count": 3,
     "metadata": {},
     "output_type": "execute_result"
    }
   ],
   "source": [
    "df.columns\n"
   ]
  },
  {
   "cell_type": "code",
   "execution_count": 4,
   "id": "413bb873",
   "metadata": {},
   "outputs": [],
   "source": [
    "df.drop(columns=[\"id\"], inplace=True)"
   ]
  },
  {
   "cell_type": "code",
   "execution_count": 5,
   "id": "ec399cdd",
   "metadata": {},
   "outputs": [
    {
     "data": {
      "text/html": [
       "<div>\n",
       "<style scoped>\n",
       "    .dataframe tbody tr th:only-of-type {\n",
       "        vertical-align: middle;\n",
       "    }\n",
       "\n",
       "    .dataframe tbody tr th {\n",
       "        vertical-align: top;\n",
       "    }\n",
       "\n",
       "    .dataframe thead th {\n",
       "        text-align: right;\n",
       "    }\n",
       "</style>\n",
       "<table border=\"1\" class=\"dataframe\">\n",
       "  <thead>\n",
       "    <tr style=\"text-align: right;\">\n",
       "      <th></th>\n",
       "      <th>gender</th>\n",
       "      <th>age</th>\n",
       "      <th>hypertension</th>\n",
       "      <th>heart_disease</th>\n",
       "      <th>ever_married</th>\n",
       "      <th>avg_glucose_level</th>\n",
       "      <th>bmi</th>\n",
       "      <th>stroke</th>\n",
       "      <th>govt_worker</th>\n",
       "      <th>never_worked</th>\n",
       "      <th>private_worker</th>\n",
       "      <th>self_employed</th>\n",
       "      <th>rural_residence</th>\n",
       "      <th>urban_residence</th>\n",
       "      <th>smoking_unknown</th>\n",
       "      <th>former_smoker</th>\n",
       "      <th>never_smoked</th>\n",
       "      <th>current_smoker</th>\n",
       "    </tr>\n",
       "  </thead>\n",
       "  <tbody>\n",
       "    <tr>\n",
       "      <th>0</th>\n",
       "      <td>1</td>\n",
       "      <td>67.0</td>\n",
       "      <td>0</td>\n",
       "      <td>1</td>\n",
       "      <td>1</td>\n",
       "      <td>228.69</td>\n",
       "      <td>36.6</td>\n",
       "      <td>1</td>\n",
       "      <td>0</td>\n",
       "      <td>0</td>\n",
       "      <td>1</td>\n",
       "      <td>0</td>\n",
       "      <td>0</td>\n",
       "      <td>1</td>\n",
       "      <td>0</td>\n",
       "      <td>1</td>\n",
       "      <td>0</td>\n",
       "      <td>0</td>\n",
       "    </tr>\n",
       "    <tr>\n",
       "      <th>1</th>\n",
       "      <td>1</td>\n",
       "      <td>80.0</td>\n",
       "      <td>0</td>\n",
       "      <td>1</td>\n",
       "      <td>1</td>\n",
       "      <td>105.92</td>\n",
       "      <td>32.5</td>\n",
       "      <td>1</td>\n",
       "      <td>0</td>\n",
       "      <td>0</td>\n",
       "      <td>1</td>\n",
       "      <td>0</td>\n",
       "      <td>1</td>\n",
       "      <td>0</td>\n",
       "      <td>0</td>\n",
       "      <td>0</td>\n",
       "      <td>1</td>\n",
       "      <td>0</td>\n",
       "    </tr>\n",
       "    <tr>\n",
       "      <th>2</th>\n",
       "      <td>0</td>\n",
       "      <td>49.0</td>\n",
       "      <td>0</td>\n",
       "      <td>0</td>\n",
       "      <td>1</td>\n",
       "      <td>171.23</td>\n",
       "      <td>34.4</td>\n",
       "      <td>1</td>\n",
       "      <td>0</td>\n",
       "      <td>0</td>\n",
       "      <td>1</td>\n",
       "      <td>0</td>\n",
       "      <td>0</td>\n",
       "      <td>1</td>\n",
       "      <td>0</td>\n",
       "      <td>0</td>\n",
       "      <td>0</td>\n",
       "      <td>1</td>\n",
       "    </tr>\n",
       "    <tr>\n",
       "      <th>3</th>\n",
       "      <td>0</td>\n",
       "      <td>79.0</td>\n",
       "      <td>1</td>\n",
       "      <td>0</td>\n",
       "      <td>1</td>\n",
       "      <td>174.12</td>\n",
       "      <td>24.0</td>\n",
       "      <td>1</td>\n",
       "      <td>0</td>\n",
       "      <td>0</td>\n",
       "      <td>0</td>\n",
       "      <td>1</td>\n",
       "      <td>1</td>\n",
       "      <td>0</td>\n",
       "      <td>0</td>\n",
       "      <td>0</td>\n",
       "      <td>1</td>\n",
       "      <td>0</td>\n",
       "    </tr>\n",
       "    <tr>\n",
       "      <th>4</th>\n",
       "      <td>1</td>\n",
       "      <td>81.0</td>\n",
       "      <td>0</td>\n",
       "      <td>0</td>\n",
       "      <td>1</td>\n",
       "      <td>186.21</td>\n",
       "      <td>29.0</td>\n",
       "      <td>1</td>\n",
       "      <td>0</td>\n",
       "      <td>0</td>\n",
       "      <td>1</td>\n",
       "      <td>0</td>\n",
       "      <td>0</td>\n",
       "      <td>1</td>\n",
       "      <td>0</td>\n",
       "      <td>1</td>\n",
       "      <td>0</td>\n",
       "      <td>0</td>\n",
       "    </tr>\n",
       "  </tbody>\n",
       "</table>\n",
       "</div>"
      ],
      "text/plain": [
       "   gender   age  hypertension  heart_disease  ever_married  avg_glucose_level  \\\n",
       "0       1  67.0             0              1             1             228.69   \n",
       "1       1  80.0             0              1             1             105.92   \n",
       "2       0  49.0             0              0             1             171.23   \n",
       "3       0  79.0             1              0             1             174.12   \n",
       "4       1  81.0             0              0             1             186.21   \n",
       "\n",
       "    bmi  stroke  govt_worker  never_worked  private_worker  self_employed  \\\n",
       "0  36.6       1            0             0               1              0   \n",
       "1  32.5       1            0             0               1              0   \n",
       "2  34.4       1            0             0               1              0   \n",
       "3  24.0       1            0             0               0              1   \n",
       "4  29.0       1            0             0               1              0   \n",
       "\n",
       "   rural_residence  urban_residence  smoking_unknown  former_smoker  \\\n",
       "0                0                1                0              1   \n",
       "1                1                0                0              0   \n",
       "2                0                1                0              0   \n",
       "3                1                0                0              0   \n",
       "4                0                1                0              1   \n",
       "\n",
       "   never_smoked  current_smoker  \n",
       "0             0               0  \n",
       "1             1               0  \n",
       "2             0               1  \n",
       "3             1               0  \n",
       "4             0               0  "
      ]
     },
     "execution_count": 5,
     "metadata": {},
     "output_type": "execute_result"
    }
   ],
   "source": [
    "df.head()"
   ]
  },
  {
   "cell_type": "code",
   "execution_count": 6,
   "id": "2eb4d291",
   "metadata": {},
   "outputs": [
    {
     "data": {
      "text/html": [
       "<div>\n",
       "<style scoped>\n",
       "    .dataframe tbody tr th:only-of-type {\n",
       "        vertical-align: middle;\n",
       "    }\n",
       "\n",
       "    .dataframe tbody tr th {\n",
       "        vertical-align: top;\n",
       "    }\n",
       "\n",
       "    .dataframe thead th {\n",
       "        text-align: right;\n",
       "    }\n",
       "</style>\n",
       "<table border=\"1\" class=\"dataframe\">\n",
       "  <thead>\n",
       "    <tr style=\"text-align: right;\">\n",
       "      <th></th>\n",
       "      <th>gender</th>\n",
       "      <th>age</th>\n",
       "      <th>hypertension</th>\n",
       "      <th>heart_disease</th>\n",
       "      <th>ever_married</th>\n",
       "      <th>avg_glucose_level</th>\n",
       "      <th>bmi</th>\n",
       "      <th>stroke</th>\n",
       "      <th>govt_worker</th>\n",
       "      <th>never_worked</th>\n",
       "      <th>private_worker</th>\n",
       "      <th>self_employed</th>\n",
       "      <th>rural_residence</th>\n",
       "      <th>urban_residence</th>\n",
       "      <th>smoking_unknown</th>\n",
       "      <th>former_smoker</th>\n",
       "      <th>never_smoked</th>\n",
       "      <th>current_smoker</th>\n",
       "    </tr>\n",
       "  </thead>\n",
       "  <tbody>\n",
       "    <tr>\n",
       "      <th>0</th>\n",
       "      <td>1</td>\n",
       "      <td>0.961233</td>\n",
       "      <td>0</td>\n",
       "      <td>1</td>\n",
       "      <td>1</td>\n",
       "      <td>2.579605</td>\n",
       "      <td>0.852506</td>\n",
       "      <td>1</td>\n",
       "      <td>0</td>\n",
       "      <td>0</td>\n",
       "      <td>1</td>\n",
       "      <td>0</td>\n",
       "      <td>0</td>\n",
       "      <td>1</td>\n",
       "      <td>0</td>\n",
       "      <td>1</td>\n",
       "      <td>0</td>\n",
       "      <td>0</td>\n",
       "    </tr>\n",
       "    <tr>\n",
       "      <th>1</th>\n",
       "      <td>1</td>\n",
       "      <td>1.692041</td>\n",
       "      <td>0</td>\n",
       "      <td>1</td>\n",
       "      <td>1</td>\n",
       "      <td>-0.036015</td>\n",
       "      <td>0.285758</td>\n",
       "      <td>1</td>\n",
       "      <td>0</td>\n",
       "      <td>0</td>\n",
       "      <td>1</td>\n",
       "      <td>0</td>\n",
       "      <td>1</td>\n",
       "      <td>0</td>\n",
       "      <td>0</td>\n",
       "      <td>0</td>\n",
       "      <td>1</td>\n",
       "      <td>0</td>\n",
       "    </tr>\n",
       "    <tr>\n",
       "      <th>2</th>\n",
       "      <td>0</td>\n",
       "      <td>-0.050654</td>\n",
       "      <td>0</td>\n",
       "      <td>0</td>\n",
       "      <td>1</td>\n",
       "      <td>1.355417</td>\n",
       "      <td>0.548398</td>\n",
       "      <td>1</td>\n",
       "      <td>0</td>\n",
       "      <td>0</td>\n",
       "      <td>1</td>\n",
       "      <td>0</td>\n",
       "      <td>0</td>\n",
       "      <td>1</td>\n",
       "      <td>0</td>\n",
       "      <td>0</td>\n",
       "      <td>0</td>\n",
       "      <td>1</td>\n",
       "    </tr>\n",
       "    <tr>\n",
       "      <th>3</th>\n",
       "      <td>0</td>\n",
       "      <td>1.635825</td>\n",
       "      <td>1</td>\n",
       "      <td>0</td>\n",
       "      <td>1</td>\n",
       "      <td>1.416989</td>\n",
       "      <td>-0.889207</td>\n",
       "      <td>1</td>\n",
       "      <td>0</td>\n",
       "      <td>0</td>\n",
       "      <td>0</td>\n",
       "      <td>1</td>\n",
       "      <td>1</td>\n",
       "      <td>0</td>\n",
       "      <td>0</td>\n",
       "      <td>0</td>\n",
       "      <td>1</td>\n",
       "      <td>0</td>\n",
       "    </tr>\n",
       "    <tr>\n",
       "      <th>4</th>\n",
       "      <td>1</td>\n",
       "      <td>1.748257</td>\n",
       "      <td>0</td>\n",
       "      <td>0</td>\n",
       "      <td>1</td>\n",
       "      <td>1.674567</td>\n",
       "      <td>-0.198051</td>\n",
       "      <td>1</td>\n",
       "      <td>0</td>\n",
       "      <td>0</td>\n",
       "      <td>1</td>\n",
       "      <td>0</td>\n",
       "      <td>0</td>\n",
       "      <td>1</td>\n",
       "      <td>0</td>\n",
       "      <td>1</td>\n",
       "      <td>0</td>\n",
       "      <td>0</td>\n",
       "    </tr>\n",
       "  </tbody>\n",
       "</table>\n",
       "</div>"
      ],
      "text/plain": [
       "   gender       age  hypertension  heart_disease  ever_married  \\\n",
       "0       1  0.961233             0              1             1   \n",
       "1       1  1.692041             0              1             1   \n",
       "2       0 -0.050654             0              0             1   \n",
       "3       0  1.635825             1              0             1   \n",
       "4       1  1.748257             0              0             1   \n",
       "\n",
       "   avg_glucose_level       bmi  stroke  govt_worker  never_worked  \\\n",
       "0           2.579605  0.852506       1            0             0   \n",
       "1          -0.036015  0.285758       1            0             0   \n",
       "2           1.355417  0.548398       1            0             0   \n",
       "3           1.416989 -0.889207       1            0             0   \n",
       "4           1.674567 -0.198051       1            0             0   \n",
       "\n",
       "   private_worker  self_employed  rural_residence  urban_residence  \\\n",
       "0               1              0                0                1   \n",
       "1               1              0                1                0   \n",
       "2               1              0                0                1   \n",
       "3               0              1                1                0   \n",
       "4               1              0                0                1   \n",
       "\n",
       "   smoking_unknown  former_smoker  never_smoked  current_smoker  \n",
       "0                0              1             0               0  \n",
       "1                0              0             1               0  \n",
       "2                0              0             0               1  \n",
       "3                0              0             1               0  \n",
       "4                0              1             0               0  "
      ]
     },
     "execution_count": 6,
     "metadata": {},
     "output_type": "execute_result"
    }
   ],
   "source": [
    "from sklearn.preprocessing import StandardScaler\n",
    "\n",
    "cols_to_scale = ['age', 'avg_glucose_level', 'bmi']\n",
    "\n",
    "scaler = StandardScaler()\n",
    "\n",
    "df[cols_to_scale] = scaler.fit_transform(df[cols_to_scale])\n",
    "\n",
    "df.head()"
   ]
  },
  {
   "cell_type": "code",
   "execution_count": 7,
   "id": "17150d24",
   "metadata": {},
   "outputs": [],
   "source": [
    "#Create our features\n",
    "\n",
    "X = df.drop(columns=[\"stroke\", \"never_worked\"])\n",
    "y = df[\"stroke\"]"
   ]
  },
  {
   "cell_type": "code",
   "execution_count": 8,
   "id": "e614b4d3",
   "metadata": {},
   "outputs": [
    {
     "data": {
      "text/plain": [
       "0    3865\n",
       "1     208\n",
       "Name: stroke, dtype: int64"
      ]
     },
     "execution_count": 8,
     "metadata": {},
     "output_type": "execute_result"
    }
   ],
   "source": [
    "y.value_counts()"
   ]
  },
  {
   "cell_type": "code",
   "execution_count": 12,
   "id": "1032783e",
   "metadata": {},
   "outputs": [],
   "source": [
    "#Balance/resample data set due to heavy imbalance of '0' and '1' values.\n",
    "\n",
    "from imblearn.over_sampling import SMOTE\n",
    "\n",
    "os = SMOTE()\n",
    "X,y = os.fit_resample(X,y)"
   ]
  },
  {
   "cell_type": "code",
   "execution_count": 13,
   "id": "55c05529",
   "metadata": {},
   "outputs": [
    {
     "data": {
      "text/plain": [
       "1    3865\n",
       "0    3865\n",
       "Name: stroke, dtype: int64"
      ]
     },
     "execution_count": 13,
     "metadata": {},
     "output_type": "execute_result"
    }
   ],
   "source": [
    "# Check to see if balanced\n",
    "\n",
    "y.value_counts()"
   ]
  },
  {
   "cell_type": "code",
   "execution_count": 14,
   "id": "6b7f9497",
   "metadata": {},
   "outputs": [],
   "source": [
    "X_train, X_test, y_train, y_test = train_test_split(X, y, random_state=1)"
   ]
  },
  {
   "cell_type": "code",
   "execution_count": null,
   "id": "d15c7f1f",
   "metadata": {},
   "outputs": [],
   "source": []
  },
  {
   "cell_type": "markdown",
   "id": "59e1657b",
   "metadata": {},
   "source": [
    "# RandomForestClassifier"
   ]
  },
  {
   "cell_type": "code",
   "execution_count": 15,
   "id": "450ca326",
   "metadata": {},
   "outputs": [],
   "source": [
    "from sklearn.ensemble import RandomForestClassifier\n",
    "from sklearn.linear_model import LogisticRegression\n"
   ]
  },
  {
   "cell_type": "code",
   "execution_count": 16,
   "id": "ab27fe96",
   "metadata": {},
   "outputs": [
    {
     "name": "stdout",
     "output_type": "stream",
     "text": [
      "Training Score: 1.0\n",
      "Testing Score: 0.9425763062596999\n"
     ]
    }
   ],
   "source": [
    "# Fit a Random Forests classifier to the data\n",
    "\n",
    "clf = RandomForestClassifier(n_estimators=100, random_state=1)\n",
    "clf.fit(X_train,y_train)\n",
    "print(f\"Training Score: {clf.score(X_train, y_train)}\")\n",
    "print(f\"Testing Score: {clf.score(X_test, y_test)}\")"
   ]
  },
  {
   "cell_type": "code",
   "execution_count": 17,
   "id": "9a4da4c5",
   "metadata": {},
   "outputs": [],
   "source": [
    "# Save the feature importances from the Random Forests classifier model to a variable named feature_importances\n",
    "\n",
    "feature_importances = clf.feature_importances_"
   ]
  },
  {
   "cell_type": "code",
   "execution_count": 18,
   "id": "49d37002",
   "metadata": {},
   "outputs": [
    {
     "data": {
      "image/png": "[encoded data removed]",
      "text/plain": [
       "<Figure size 720x720 with 1 Axes>"
      ]
     },
     "metadata": {
      "needs_background": "light"
     },
     "output_type": "display_data"
    }
   ],
   "source": [
    "# Plot the most important features\n",
    "features = sorted(zip(X.columns, feature_importances), key = lambda x: x[1])\n",
    "cols = [f[0] for f in features]\n",
    "width = [f[1] for f in features]\n",
    "\n",
    "fig, ax = plt.subplots()\n",
    "\n",
    "fig.set_size_inches(10,10)\n",
    "plt.margins(y=0.001)\n",
    "\n",
    "ax.barh(y=cols, width=width)\n",
    "\n",
    "plt.show()"
   ]
  },
  {
   "cell_type": "code",
   "execution_count": 19,
   "id": "aef3ee75",
   "metadata": {},
   "outputs": [
    {
     "name": "stdout",
     "output_type": "stream",
     "text": [
      "[[889  86]\n",
      " [ 25 933]]\n"
     ]
    }
   ],
   "source": [
    "# Create confusion matrix\n",
    "\n",
    "y_pred = clf.predict(X_test)\n",
    "\n",
    "cm = confusion_matrix(y_test, y_pred)\n",
    "\n",
    "print(cm)"
   ]
  },
  {
   "cell_type": "code",
   "execution_count": 20,
   "id": "625a54b5",
   "metadata": {},
   "outputs": [],
   "source": [
    "# Extract cm values\n",
    "\n",
    "tn, fp, fn, tp = cm.ravel()"
   ]
  },
  {
   "cell_type": "code",
   "execution_count": 21,
   "id": "5fb6129f",
   "metadata": {},
   "outputs": [
    {
     "name": "stdout",
     "output_type": "stream",
     "text": [
      "Precision : [0.91560353]\n"
     ]
    }
   ],
   "source": [
    "## Calculate the precision of the model based on the confusion matrix\n",
    "\n",
    "precision = tp / [tp + fp]\n",
    "print(f\"Precision : {precision}\")"
   ]
  },
  {
   "cell_type": "code",
   "execution_count": 22,
   "id": "0ca3bf4c",
   "metadata": {},
   "outputs": [
    {
     "name": "stdout",
     "output_type": "stream",
     "text": [
      "Sensitivity: [0.97390397]\n"
     ]
    }
   ],
   "source": [
    "# Calculate the sensitivity of the model based on the confusion matrix\n",
    "\n",
    "sensitivity = tp / [tp + fn]\n",
    "print(f\"Sensitivity: {sensitivity}\")"
   ]
  },
  {
   "cell_type": "code",
   "execution_count": 23,
   "id": "fdc87d7a",
   "metadata": {},
   "outputs": [
    {
     "name": "stdout",
     "output_type": "stream",
     "text": [
      "F1 : [0.94385432]\n"
     ]
    }
   ],
   "source": [
    "# Calculate the F1 score of the model based on the confusion matrix\n",
    "\n",
    "f1 = 2*(sensitivity*precision)/(precision+sensitivity)\n",
    "print(f\"F1 : {f1}\")"
   ]
  },
  {
   "cell_type": "markdown",
   "id": "14809706",
   "metadata": {},
   "source": [
    "# Logistic Regression"
   ]
  },
  {
   "cell_type": "code",
   "execution_count": 24,
   "id": "afbe91b8",
   "metadata": {},
   "outputs": [],
   "source": [
    "from sklearn.linear_model import LogisticRegression\n",
    "\n",
    "classifier = LogisticRegression(solver='lbfgs',max_iter=200,random_state=1)"
   ]
  },
  {
   "cell_type": "code",
   "execution_count": 25,
   "id": "95a29852",
   "metadata": {},
   "outputs": [
    {
     "data": {
      "text/plain": [
       "LogisticRegression(max_iter=200, random_state=1)"
      ]
     },
     "execution_count": 25,
     "metadata": {},
     "output_type": "execute_result"
    }
   ],
   "source": [
    "classifier.fit(X_train, y_train)"
   ]
  },
  {
   "cell_type": "code",
   "execution_count": 26,
   "id": "b4b76458",
   "metadata": {},
   "outputs": [],
   "source": [
    "y_pred = classifier.predict(X_test)"
   ]
  },
  {
   "cell_type": "code",
   "execution_count": 27,
   "id": "6c5c9220",
   "metadata": {},
   "outputs": [
    {
     "name": "stdout",
     "output_type": "stream",
     "text": [
      "0.8235902741852044\n"
     ]
    }
   ],
   "source": [
    "from sklearn.metrics import accuracy_score\n",
    "print(accuracy_score(y_test, y_pred))"
   ]
  },
  {
   "cell_type": "code",
   "execution_count": 28,
   "id": "f26001f5",
   "metadata": {},
   "outputs": [],
   "source": [
    "# Create new df to check actual vs predicted values\n",
    "\n",
    "df_lr = pd.DataFrame()"
   ]
  },
  {
   "cell_type": "code",
   "execution_count": 29,
   "id": "c8cb9ed5",
   "metadata": {},
   "outputs": [],
   "source": [
    "df_lr[\"Actual\"] = y_test"
   ]
  },
  {
   "cell_type": "code",
   "execution_count": 30,
   "id": "9ea56493",
   "metadata": {},
   "outputs": [],
   "source": [
    "df_lr[\"pred\"] = y_pred"
   ]
  },
  {
   "cell_type": "code",
   "execution_count": 31,
   "id": "a8bd382a",
   "metadata": {},
   "outputs": [
    {
     "data": {
      "text/html": [
       "<div>\n",
       "<style scoped>\n",
       "    .dataframe tbody tr th:only-of-type {\n",
       "        vertical-align: middle;\n",
       "    }\n",
       "\n",
       "    .dataframe tbody tr th {\n",
       "        vertical-align: top;\n",
       "    }\n",
       "\n",
       "    .dataframe thead th {\n",
       "        text-align: right;\n",
       "    }\n",
       "</style>\n",
       "<table border=\"1\" class=\"dataframe\">\n",
       "  <thead>\n",
       "    <tr style=\"text-align: right;\">\n",
       "      <th></th>\n",
       "      <th>Actual</th>\n",
       "      <th>pred</th>\n",
       "    </tr>\n",
       "  </thead>\n",
       "  <tbody>\n",
       "    <tr>\n",
       "      <th>6447</th>\n",
       "      <td>1</td>\n",
       "      <td>1</td>\n",
       "    </tr>\n",
       "    <tr>\n",
       "      <th>5924</th>\n",
       "      <td>1</td>\n",
       "      <td>1</td>\n",
       "    </tr>\n",
       "    <tr>\n",
       "      <th>6054</th>\n",
       "      <td>1</td>\n",
       "      <td>1</td>\n",
       "    </tr>\n",
       "    <tr>\n",
       "      <th>4493</th>\n",
       "      <td>1</td>\n",
       "      <td>1</td>\n",
       "    </tr>\n",
       "    <tr>\n",
       "      <th>130</th>\n",
       "      <td>1</td>\n",
       "      <td>1</td>\n",
       "    </tr>\n",
       "    <tr>\n",
       "      <th>...</th>\n",
       "      <td>...</td>\n",
       "      <td>...</td>\n",
       "    </tr>\n",
       "    <tr>\n",
       "      <th>7138</th>\n",
       "      <td>1</td>\n",
       "      <td>1</td>\n",
       "    </tr>\n",
       "    <tr>\n",
       "      <th>6861</th>\n",
       "      <td>1</td>\n",
       "      <td>1</td>\n",
       "    </tr>\n",
       "    <tr>\n",
       "      <th>6386</th>\n",
       "      <td>1</td>\n",
       "      <td>1</td>\n",
       "    </tr>\n",
       "    <tr>\n",
       "      <th>6829</th>\n",
       "      <td>1</td>\n",
       "      <td>1</td>\n",
       "    </tr>\n",
       "    <tr>\n",
       "      <th>5369</th>\n",
       "      <td>1</td>\n",
       "      <td>1</td>\n",
       "    </tr>\n",
       "  </tbody>\n",
       "</table>\n",
       "<p>795 rows × 2 columns</p>\n",
       "</div>"
      ],
      "text/plain": [
       "      Actual  pred\n",
       "6447       1     1\n",
       "5924       1     1\n",
       "6054       1     1\n",
       "4493       1     1\n",
       "130        1     1\n",
       "...      ...   ...\n",
       "7138       1     1\n",
       "6861       1     1\n",
       "6386       1     1\n",
       "6829       1     1\n",
       "5369       1     1\n",
       "\n",
       "[795 rows x 2 columns]"
      ]
     },
     "execution_count": 31,
     "metadata": {},
     "output_type": "execute_result"
    }
   ],
   "source": [
    "df_lr.loc[(df_lr[\"pred\"]==1) & (df_lr[\"Actual\"]==1)]"
   ]
  },
  {
   "cell_type": "code",
   "execution_count": 32,
   "id": "e076d04f",
   "metadata": {},
   "outputs": [
    {
     "name": "stdout",
     "output_type": "stream",
     "text": [
      "[[797 178]\n",
      " [163 795]]\n"
     ]
    }
   ],
   "source": [
    "cm = confusion_matrix(y_test, y_pred)\n",
    "print(cm)"
   ]
  },
  {
   "cell_type": "code",
   "execution_count": 33,
   "id": "856b9d24",
   "metadata": {},
   "outputs": [],
   "source": [
    "tn, fp, fn, tp = cm.ravel()"
   ]
  },
  {
   "cell_type": "code",
   "execution_count": 34,
   "id": "5dbeb89c",
   "metadata": {},
   "outputs": [
    {
     "name": "stdout",
     "output_type": "stream",
     "text": [
      "Precision : [0.81706064]\n"
     ]
    }
   ],
   "source": [
    "## Calculate the precision of the model based on the confusion matrix\n",
    "\n",
    "precision = tp / [tp + fp]\n",
    "print(f\"Precision : {precision}\")"
   ]
  },
  {
   "cell_type": "code",
   "execution_count": 35,
   "id": "a3241d53",
   "metadata": {},
   "outputs": [
    {
     "name": "stdout",
     "output_type": "stream",
     "text": [
      "Sensitivity: [0.82985386]\n"
     ]
    }
   ],
   "source": [
    "# Calculate the sensitivity of the model based on the confusion matrix\n",
    "\n",
    "sensitivity = tp / [tp + fn]\n",
    "print(f\"Sensitivity: {sensitivity}\")"
   ]
  },
  {
   "cell_type": "code",
   "execution_count": 36,
   "id": "cd38066c",
   "metadata": {},
   "outputs": [
    {
     "name": "stdout",
     "output_type": "stream",
     "text": [
      "F1 : [0.82340756]\n"
     ]
    }
   ],
   "source": [
    "# Calculate the F1 score of the model based on the confusion matrix\n",
    "\n",
    "f1 = 2*(sensitivity*precision)/(precision+sensitivity)\n",
    "print(f\"F1 : {f1}\")"
   ]
  },
  {
   "cell_type": "markdown",
   "id": "8b73318e",
   "metadata": {},
   "source": [
    "# Neural Networks"
   ]
  },
  {
   "cell_type": "code",
   "execution_count": 37,
   "id": "4f66679f",
   "metadata": {},
   "outputs": [],
   "source": [
    "from sklearn.preprocessing import StandardScaler\n",
    "import tensorflow as tf"
   ]
  },
  {
   "cell_type": "code",
   "execution_count": 39,
   "id": "b6e36af2",
   "metadata": {},
   "outputs": [
    {
     "name": "stdout",
     "output_type": "stream",
     "text": [
      "Epoch 1/100\n",
      "182/182 [==============================] - 4s 2ms/step - loss: 0.5087 - accuracy: 0.7487\n",
      "Epoch 2/100\n",
      "182/182 [==============================] - 1s 3ms/step - loss: 0.4246 - accuracy: 0.7997\n",
      "Epoch 3/100\n",
      "182/182 [==============================] - 0s 2ms/step - loss: 0.3805 - accuracy: 0.8325\n",
      "Epoch 4/100\n",
      "182/182 [==============================] - 0s 1ms/step - loss: 0.3396 - accuracy: 0.8525\n",
      "Epoch 5/100\n",
      "182/182 [==============================] - 0s 2ms/step - loss: 0.3100 - accuracy: 0.8699\n",
      "Epoch 6/100\n",
      "182/182 [==============================] - 0s 2ms/step - loss: 0.2869 - accuracy: 0.8805\n",
      "Epoch 7/100\n",
      "182/182 [==============================] - 0s 1ms/step - loss: 0.2703 - accuracy: 0.8877\n",
      "Epoch 8/100\n",
      "182/182 [==============================] - 0s 1ms/step - loss: 0.2584 - accuracy: 0.8972\n",
      "Epoch 9/100\n",
      "182/182 [==============================] - 0s 1ms/step - loss: 0.2524 - accuracy: 0.8977\n",
      "Epoch 10/100\n",
      "182/182 [==============================] - 0s 1ms/step - loss: 0.2428 - accuracy: 0.9008\n",
      "Epoch 11/100\n",
      "182/182 [==============================] - 0s 1ms/step - loss: 0.2365 - accuracy: 0.9029\n",
      "Epoch 12/100\n",
      "182/182 [==============================] - 0s 1ms/step - loss: 0.2315 - accuracy: 0.9034\n",
      "Epoch 13/100\n",
      "182/182 [==============================] - 0s 2ms/step - loss: 0.2280 - accuracy: 0.9079\n",
      "Epoch 14/100\n",
      "182/182 [==============================] - 0s 1ms/step - loss: 0.2214 - accuracy: 0.9125\n",
      "Epoch 15/100\n",
      "182/182 [==============================] - 0s 1ms/step - loss: 0.2159 - accuracy: 0.9125\n",
      "Epoch 16/100\n",
      "182/182 [==============================] - 0s 1ms/step - loss: 0.2142 - accuracy: 0.9117\n",
      "Epoch 17/100\n",
      "182/182 [==============================] - 0s 1ms/step - loss: 0.2132 - accuracy: 0.9136\n",
      "Epoch 18/100\n",
      "182/182 [==============================] - 0s 1ms/step - loss: 0.2060 - accuracy: 0.9193\n",
      "Epoch 19/100\n",
      "182/182 [==============================] - 0s 1ms/step - loss: 0.2017 - accuracy: 0.9191\n",
      "Epoch 20/100\n",
      "182/182 [==============================] - 0s 1ms/step - loss: 0.1970 - accuracy: 0.9232\n",
      "Epoch 21/100\n",
      "182/182 [==============================] - 0s 1ms/step - loss: 0.1931 - accuracy: 0.9241\n",
      "Epoch 22/100\n",
      "182/182 [==============================] - 0s 1ms/step - loss: 0.1938 - accuracy: 0.9234\n",
      "Epoch 23/100\n",
      "182/182 [==============================] - 0s 1ms/step - loss: 0.1988 - accuracy: 0.9188\n",
      "Epoch 24/100\n",
      "182/182 [==============================] - 0s 2ms/step - loss: 0.1916 - accuracy: 0.9231\n",
      "Epoch 25/100\n",
      "182/182 [==============================] - 0s 1ms/step - loss: 0.1861 - accuracy: 0.9288\n",
      "Epoch 26/100\n",
      "182/182 [==============================] - 0s 1ms/step - loss: 0.1820 - accuracy: 0.9293\n",
      "Epoch 27/100\n",
      "182/182 [==============================] - 0s 1ms/step - loss: 0.1795 - accuracy: 0.9312\n",
      "Epoch 28/100\n",
      "182/182 [==============================] - 0s 1ms/step - loss: 0.1780 - accuracy: 0.9320\n",
      "Epoch 29/100\n",
      "182/182 [==============================] - 0s 1ms/step - loss: 0.1800 - accuracy: 0.9267\n",
      "Epoch 30/100\n",
      "182/182 [==============================] - 0s 1ms/step - loss: 0.1739 - accuracy: 0.9307\n",
      "Epoch 31/100\n",
      "182/182 [==============================] - 0s 1ms/step - loss: 0.1738 - accuracy: 0.9344\n",
      "Epoch 32/100\n",
      "182/182 [==============================] - 0s 1ms/step - loss: 0.1703 - accuracy: 0.9331\n",
      "Epoch 33/100\n",
      "182/182 [==============================] - 0s 1ms/step - loss: 0.1701 - accuracy: 0.9324\n",
      "Epoch 34/100\n",
      "182/182 [==============================] - 0s 1ms/step - loss: 0.1670 - accuracy: 0.9350\n",
      "Epoch 35/100\n",
      "182/182 [==============================] - 0s 1ms/step - loss: 0.1652 - accuracy: 0.9372\n",
      "Epoch 36/100\n",
      "182/182 [==============================] - 0s 2ms/step - loss: 0.1623 - accuracy: 0.9382\n",
      "Epoch 37/100\n",
      "182/182 [==============================] - 0s 2ms/step - loss: 0.1628 - accuracy: 0.9372\n",
      "Epoch 38/100\n",
      "182/182 [==============================] - 0s 1ms/step - loss: 0.1612 - accuracy: 0.9353\n",
      "Epoch 39/100\n",
      "182/182 [==============================] - 0s 1ms/step - loss: 0.1590 - accuracy: 0.9393\n",
      "Epoch 40/100\n",
      "182/182 [==============================] - 0s 2ms/step - loss: 0.1533 - accuracy: 0.9443\n",
      "Epoch 41/100\n",
      "182/182 [==============================] - 0s 2ms/step - loss: 0.1576 - accuracy: 0.9382\n",
      "Epoch 42/100\n",
      "182/182 [==============================] - 0s 1ms/step - loss: 0.1563 - accuracy: 0.9413\n",
      "Epoch 43/100\n",
      "182/182 [==============================] - 0s 1ms/step - loss: 0.1537 - accuracy: 0.9370\n",
      "Epoch 44/100\n",
      "182/182 [==============================] - 0s 1ms/step - loss: 0.1556 - accuracy: 0.9408\n",
      "Epoch 45/100\n",
      "182/182 [==============================] - 0s 2ms/step - loss: 0.1511 - accuracy: 0.9396\n",
      "Epoch 46/100\n",
      "182/182 [==============================] - 1s 3ms/step - loss: 0.1502 - accuracy: 0.9419\n",
      "Epoch 47/100\n",
      "182/182 [==============================] - 0s 2ms/step - loss: 0.1475 - accuracy: 0.9436\n",
      "Epoch 48/100\n",
      "182/182 [==============================] - 0s 2ms/step - loss: 0.1438 - accuracy: 0.9470\n",
      "Epoch 49/100\n",
      "182/182 [==============================] - 0s 2ms/step - loss: 0.1467 - accuracy: 0.9439\n",
      "Epoch 50/100\n",
      "182/182 [==============================] - 0s 2ms/step - loss: 0.1445 - accuracy: 0.9445\n",
      "Epoch 51/100\n",
      "182/182 [==============================] - 0s 2ms/step - loss: 0.1407 - accuracy: 0.9472\n",
      "Epoch 52/100\n",
      "182/182 [==============================] - 0s 1ms/step - loss: 0.1447 - accuracy: 0.9460\n",
      "Epoch 53/100\n",
      "182/182 [==============================] - 0s 2ms/step - loss: 0.1398 - accuracy: 0.9458\n",
      "Epoch 54/100\n",
      "182/182 [==============================] - 0s 1ms/step - loss: 0.1364 - accuracy: 0.9496\n",
      "Epoch 55/100\n",
      "182/182 [==============================] - 0s 2ms/step - loss: 0.1388 - accuracy: 0.9451\n",
      "Epoch 56/100\n",
      "182/182 [==============================] - 0s 2ms/step - loss: 0.1384 - accuracy: 0.9462\n",
      "Epoch 57/100\n",
      "182/182 [==============================] - 0s 2ms/step - loss: 0.1379 - accuracy: 0.9451\n",
      "Epoch 58/100\n",
      "182/182 [==============================] - 0s 2ms/step - loss: 0.1358 - accuracy: 0.9486\n",
      "Epoch 59/100\n",
      "182/182 [==============================] - 0s 2ms/step - loss: 0.1330 - accuracy: 0.9479\n",
      "Epoch 60/100\n",
      "182/182 [==============================] - 0s 1ms/step - loss: 0.1372 - accuracy: 0.9460\n",
      "Epoch 61/100\n",
      "182/182 [==============================] - 0s 2ms/step - loss: 0.1328 - accuracy: 0.9481\n",
      "Epoch 62/100\n",
      "182/182 [==============================] - 0s 2ms/step - loss: 0.1323 - accuracy: 0.9507\n",
      "Epoch 63/100\n",
      "182/182 [==============================] - 0s 2ms/step - loss: 0.1325 - accuracy: 0.9503\n",
      "Epoch 64/100\n",
      "182/182 [==============================] - 0s 2ms/step - loss: 0.1341 - accuracy: 0.9476\n",
      "Epoch 65/100\n",
      "182/182 [==============================] - 0s 2ms/step - loss: 0.1317 - accuracy: 0.9500\n",
      "Epoch 66/100\n",
      "182/182 [==============================] - 0s 2ms/step - loss: 0.1274 - accuracy: 0.9526\n",
      "Epoch 67/100\n",
      "182/182 [==============================] - 0s 2ms/step - loss: 0.1296 - accuracy: 0.9500\n",
      "Epoch 68/100\n",
      "182/182 [==============================] - 0s 2ms/step - loss: 0.1311 - accuracy: 0.9514\n",
      "Epoch 69/100\n",
      "182/182 [==============================] - 0s 1ms/step - loss: 0.1266 - accuracy: 0.9503\n",
      "Epoch 70/100\n",
      "182/182 [==============================] - 0s 1ms/step - loss: 0.1274 - accuracy: 0.9536\n",
      "Epoch 71/100\n",
      "182/182 [==============================] - 0s 2ms/step - loss: 0.1252 - accuracy: 0.9543\n",
      "Epoch 72/100\n",
      "182/182 [==============================] - 0s 2ms/step - loss: 0.1262 - accuracy: 0.9531\n",
      "Epoch 73/100\n",
      "182/182 [==============================] - 0s 1ms/step - loss: 0.1216 - accuracy: 0.9543\n",
      "Epoch 74/100\n",
      "182/182 [==============================] - 0s 1ms/step - loss: 0.1202 - accuracy: 0.9562\n",
      "Epoch 75/100\n",
      "182/182 [==============================] - 0s 2ms/step - loss: 0.1215 - accuracy: 0.9533\n",
      "Epoch 76/100\n",
      "182/182 [==============================] - 0s 2ms/step - loss: 0.1176 - accuracy: 0.9584\n",
      "Epoch 77/100\n",
      "182/182 [==============================] - 0s 1ms/step - loss: 0.1158 - accuracy: 0.9577\n",
      "Epoch 78/100\n",
      "182/182 [==============================] - 0s 1ms/step - loss: 0.1183 - accuracy: 0.9545\n",
      "Epoch 79/100\n",
      "182/182 [==============================] - 0s 1ms/step - loss: 0.1163 - accuracy: 0.9570\n",
      "Epoch 80/100\n",
      "182/182 [==============================] - 0s 2ms/step - loss: 0.1157 - accuracy: 0.9562\n",
      "Epoch 81/100\n"
     ]
    },
    {
     "name": "stdout",
     "output_type": "stream",
     "text": [
      "182/182 [==============================] - 0s 1ms/step - loss: 0.1138 - accuracy: 0.9581\n",
      "Epoch 82/100\n",
      "182/182 [==============================] - 0s 1ms/step - loss: 0.1145 - accuracy: 0.9576\n",
      "Epoch 83/100\n",
      "182/182 [==============================] - 0s 1ms/step - loss: 0.1126 - accuracy: 0.9584\n",
      "Epoch 84/100\n",
      "182/182 [==============================] - 0s 1ms/step - loss: 0.1182 - accuracy: 0.9558\n",
      "Epoch 85/100\n",
      "182/182 [==============================] - 0s 1ms/step - loss: 0.1178 - accuracy: 0.9548\n",
      "Epoch 86/100\n",
      "182/182 [==============================] - 0s 1ms/step - loss: 0.1095 - accuracy: 0.9612\n",
      "Epoch 87/100\n",
      "182/182 [==============================] - 0s 2ms/step - loss: 0.1138 - accuracy: 0.9576\n",
      "Epoch 88/100\n",
      "182/182 [==============================] - 0s 2ms/step - loss: 0.1093 - accuracy: 0.9598\n",
      "Epoch 89/100\n",
      "182/182 [==============================] - 0s 1ms/step - loss: 0.1085 - accuracy: 0.9610\n",
      "Epoch 90/100\n",
      "182/182 [==============================] - 0s 1ms/step - loss: 0.1101 - accuracy: 0.9583\n",
      "Epoch 91/100\n",
      "182/182 [==============================] - 0s 1ms/step - loss: 0.1108 - accuracy: 0.9588\n",
      "Epoch 92/100\n",
      "182/182 [==============================] - 0s 1ms/step - loss: 0.1100 - accuracy: 0.9583\n",
      "Epoch 93/100\n",
      "182/182 [==============================] - 0s 1ms/step - loss: 0.1117 - accuracy: 0.9595\n",
      "Epoch 94/100\n",
      "182/182 [==============================] - 0s 1ms/step - loss: 0.1091 - accuracy: 0.9610\n",
      "Epoch 95/100\n",
      "182/182 [==============================] - 0s 1ms/step - loss: 0.1088 - accuracy: 0.9591\n",
      "Epoch 96/100\n",
      "182/182 [==============================] - 0s 1ms/step - loss: 0.1089 - accuracy: 0.9583\n",
      "Epoch 97/100\n",
      "182/182 [==============================] - 0s 1ms/step - loss: 0.1031 - accuracy: 0.9605\n",
      "Epoch 98/100\n",
      "182/182 [==============================] - 0s 1ms/step - loss: 0.1043 - accuracy: 0.9617\n",
      "Epoch 99/100\n",
      "182/182 [==============================] - 0s 1ms/step - loss: 0.1067 - accuracy: 0.9595\n",
      "Epoch 100/100\n",
      "182/182 [==============================] - 0s 1ms/step - loss: 0.1078 - accuracy: 0.9593\n"
     ]
    }
   ],
   "source": [
    "# Define the deep learning model \n",
    "nn_model = tf.keras.models.Sequential()\n",
    "nn_model.add(tf.keras.layers.Dense(units=54, activation=\"relu\", input_dim=16))\n",
    "nn_model.add(tf.keras.layers.Dense(units=54, activation=\"relu\"))\n",
    "nn_model.add(tf.keras.layers.Dense(units=1, activation=\"sigmoid\"))\n",
    "\n",
    "# Compile the Sequential model together and customize metrics\n",
    "nn_model.compile(loss=\"binary_crossentropy\", optimizer=\"adam\", metrics=[\"accuracy\"])\n",
    "\n",
    "# Train the model\n",
    "fit_model = nn_model.fit(X_train, y_train, epochs=100)\n",
    "\n"
   ]
  },
  {
   "cell_type": "code",
   "execution_count": 41,
   "id": "a5d12a40",
   "metadata": {},
   "outputs": [
    {
     "name": "stdout",
     "output_type": "stream",
     "text": [
      "61/61 - 1s - loss: 0.2209 - accuracy: 0.9245 - 917ms/epoch - 15ms/step\n",
      "Loss: 0.22093623876571655, Accuracy: 0.9244697093963623\n"
     ]
    }
   ],
   "source": [
    "# Evaluate the model using the test data\n",
    "\n",
    "model_loss, model_accuracy = nn_model.evaluate(X_test,y_test,verbose=2)\n",
    "print(f\"Loss: {model_loss}, Accuracy: {model_accuracy}\")"
   ]
  },
  {
   "cell_type": "code",
   "execution_count": null,
   "id": "0925e4de",
   "metadata": {},
   "outputs": [],
   "source": []
  }
 ],
 "metadata": {
  "kernelspec": {
   "display_name": "mlenv",
   "language": "python",
   "name": "mlenv"
  },
  "language_info": {
   "codemirror_mode": {
    "name": "ipython",
    "version": 3
   },
   "file_extension": ".py",
   "mimetype": "text/x-python",
   "name": "python",
   "nbconvert_exporter": "python",
   "pygments_lexer": "ipython3",
   "version": "3.7.13"
  }
 },
 "nbformat": 4,
 "nbformat_minor": 5
}
